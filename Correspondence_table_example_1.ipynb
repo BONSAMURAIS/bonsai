{
 "cells": [
  {
   "cell_type": "markdown",
   "metadata": {},
   "source": [
    "# Correspondence table\n",
    "\n",
    "Be C=1,..,m and K=1,...,n two arbitrary calssifications.\n",
    "\n",
    "Be S(m,n) a correspondence table between the two classifications. S(i,j)=1 if the i-th category of classification C matches with the j-th category of classification K.\n",
    "\n",
    "Multiplying any vector accounted in one or the other classification by the correspondence table, it is possible to change the classification\n",
    "\n",
    "> [example: FAOvsEXIOBASE correspondence](https://github.com/BONSAMURAIS/bonsai/blob/489be869d079ccef95315bdfac14c9883d7169e4/FAO_vs_EXIOBASE_prod_classification_correspondence.xlsx)\n"
   ]
  }
 ],
 "metadata": {
  "kernelspec": {
   "display_name": "Python 3",
   "language": "python",
   "name": "python3"
  },
  "language_info": {
   "codemirror_mode": {
    "name": "ipython",
    "version": 3
   },
   "file_extension": ".py",
   "mimetype": "text/x-python",
   "name": "python",
   "nbconvert_exporter": "python",
   "pygments_lexer": "ipython3",
   "version": "3.6.4"
  }
 },
 "nbformat": 4,
 "nbformat_minor": 2
}
