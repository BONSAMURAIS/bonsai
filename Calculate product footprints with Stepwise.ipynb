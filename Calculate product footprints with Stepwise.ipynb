{
 "cells": [
  {
   "cell_type": "markdown",
   "metadata": {},
   "source": [
    "## Calculation of LCIA results with Stepwise 1.6"
   ]
  },
  {
   "cell_type": "code",
   "execution_count": 47,
   "metadata": {
    "collapsed": false
   },
   "outputs": [
    {
     "name": "stdout",
     "output_type": "stream",
     "text": [
      "/Users/marie/Desktop\n"
     ]
    }
   ],
   "source": [
    "cd /Users/marie/Desktop"
   ]
  },
  {
   "cell_type": "code",
   "execution_count": 28,
   "metadata": {
    "collapsed": false
   },
   "outputs": [],
   "source": [
    "## Import terminated results\n",
    "import csv\n",
    "import numpy as np\n",
    "with open(\"BLCI.csv\",'r') as dest_f:\n",
    "    data_iter = csv.reader(dest_f, \n",
    "                           delimiter = ',', \n",
    "                           quotechar = '\"')\n",
    "    data = [data for data in data_iter]\n",
    "BLCI = np.array(list(data)).astype('float')"
   ]
  },
  {
   "cell_type": "code",
   "execution_count": 42,
   "metadata": {
    "collapsed": false
   },
   "outputs": [],
   "source": [
    "## Import stepwise mid-points (mid-point methods)\n",
    "import pandas as pd\n",
    "data_xls = pd.read_excel('stepwise_1-6_exiobase.xlsx', 'stepwise-exiobase', index_col=None, header = None, encoding='utf-8')\n",
    "##outfile =\"/Users/marie/Desktop/stepwise_mid_pd.csv\"\n",
    "stepwise_mid = data_xls.iloc[1:102, 5:20]\n",
    "##stepwise_mid.to_csv(outfile, header = None)"
   ]
  },
  {
   "cell_type": "code",
   "execution_count": 48,
   "metadata": {
    "collapsed": false
   },
   "outputs": [],
   "source": [
    "## Import stepwise end-points (damage vector in EUROS)\n",
    "import pandas as pd\n",
    "data_xls = pd.read_excel('stepwise_1-6_exiobase.xlsx', 'stepwise-exiobase', index_col=None, header = None, encoding='utf-8')\n",
    "##outfile =\"/Users/marie/Desktop/stepwise_EUR_pd.csv\"\n",
    "stepwise_EUR = data_xls.iloc[102:117, 20:21]\n",
    "##stepwise_EUR.to_csv(outfile, header = None)"
   ]
  },
  {
   "cell_type": "code",
   "execution_count": 45,
   "metadata": {
    "collapsed": false
   },
   "outputs": [],
   "source": [
    "## Multiply terminated results with Stepwise to Get mid-point product footprints\n",
    "midpoint_footprints = np.dot(np.transpose(stepwise_mid),BLCI)\n",
    "\n",
    "from io import StringIO\n",
    "import numpy as np\n",
    "s=StringIO()\n",
    "np.savetxt('midpoint_footprints.csv', midpoint_footprints, fmt='%.10f', delimiter=',', newline=\"\\n\")"
   ]
  },
  {
   "cell_type": "code",
   "execution_count": 49,
   "metadata": {
    "collapsed": false
   },
   "outputs": [],
   "source": [
    "## Multiply mid-point product footprints with damage vector to get end-point product footprints\n",
    "endpoint_footprints = np.dot(np.transpose(stepwise_EUR),midpoint_footprints)\n",
    "\n",
    "from io import StringIO\n",
    "import numpy as np\n",
    "s=StringIO()\n",
    "np.savetxt('endpoint_footprints.csv', endpoint_footprints, fmt='%.10f', delimiter=',', newline=\"\\n\")"
   ]
  },
  {
   "cell_type": "code",
   "execution_count": 50,
   "metadata": {
    "collapsed": false
   },
   "outputs": [],
   "source": [
    "## DO NOT EXECUTE\n",
    "## Make a terminated matrix with shape (8313,8313) , to be used later to integrate stepwise in extended exiobase\n",
    "import csv\n",
    "import numpy as np\n",
    "a = np.zeros(shape=(8212,8313))\n",
    "b = np.zeros(shape=(101,101))\n",
    "frame1 = np.concatenate((BLCI, b), axis=1)\n",
    "terminated_matrix = np.concatenate((a, frame1), axis=0)\n",
    "\n",
    "from io import StringIO\n",
    "import numpy as np\n",
    "s=StringIO()\n",
    "np.savetxt('terminated_matrix.csv', terminated_matrix, fmt='%.10f', delimiter=',', newline=\"\\n\")"
   ]
  },
  {
   "cell_type": "code",
   "execution_count": null,
   "metadata": {
    "collapsed": true
   },
   "outputs": [],
   "source": []
  }
 ],
 "metadata": {
  "kernelspec": {
   "display_name": "Python 3",
   "language": "python",
   "name": "python3"
  },
  "language_info": {
   "codemirror_mode": {
    "name": "ipython",
    "version": 3
   },
   "file_extension": ".py",
   "mimetype": "text/x-python",
   "name": "python",
   "nbconvert_exporter": "python",
   "pygments_lexer": "ipython3",
   "version": "3.6.0"
  }
 },
 "nbformat": 4,
 "nbformat_minor": 2
}
