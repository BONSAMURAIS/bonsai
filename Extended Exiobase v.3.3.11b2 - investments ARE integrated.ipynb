{
 "cells": [
  {
   "cell_type": "markdown",
   "metadata": {
    "deletable": true,
    "editable": true
   },
   "source": [
    "## Calculate terminated results for exiobase v.3.3.11b2 incl. iLUC, electricity markets and social extensions - investments ARE integrated\n",
    "\n",
    "\n",
    "This tutorial is divided in 3 sections.\n",
    "1. Extract numbers from Excel files\n",
    "2. Read all the csv files as matrices\n",
    "3. Run operations\n"
   ]
  },
  {
   "cell_type": "markdown",
   "metadata": {
    "deletable": true,
    "editable": true
   },
   "source": [
    "## 1. Extract numbers from xslx \n",
    "\n",
    "'MR_ext_HIOT_2011_v3.3.11_incl_invest.xlsx'  \n",
    "'MR_ext_HIOT_2011_v3.3.11_extensions_MS.xlsx'  Water extensions were updated and biogenic carbon replaced.\n",
    "\n",
    "We create 2 CSV files from 'MR_ext_HIOT_2011_v3.3.11_incl_invest.xlsx':\n",
    "- Zn_tonorm_pd.csv file (inputs) per activity that we will need to normalize\n",
    "- norm_pd.csv file with the total consumption per activity"
   ]
  },
  {
   "cell_type": "code",
   "execution_count": 1,
   "metadata": {
    "collapsed": false,
    "deletable": true,
    "editable": true
   },
   "outputs": [
    {
     "name": "stdout",
     "output_type": "stream",
     "text": [
      "/Users/marie/Desktop\n"
     ]
    }
   ],
   "source": [
    "cd /Users/marie/Desktop"
   ]
  },
  {
   "cell_type": "code",
   "execution_count": 2,
   "metadata": {
    "collapsed": false,
    "deletable": true,
    "editable": true
   },
   "outputs": [],
   "source": [
    "### MR-HIOT.csv is created because the excel is too heavy\n",
    "import pandas as pd\n",
    "import csv\n",
    "\n",
    "data_xls = pd.read_excel('MR_ext_HIOT_2011_v3.3.11_incl_invest.xlsx', 'use_plus_inv', index_col=None)\n",
    "data_xls.to_csv('MR_ext_HIOT.csv', encoding='utf-8')"
   ]
  },
  {
   "cell_type": "code",
   "execution_count": 3,
   "metadata": {
    "collapsed": false,
    "deletable": true,
    "editable": true
   },
   "outputs": [],
   "source": [
    "import pandas as pd\n",
    "import csv\n",
    "outfile1 =\"/Users/marie/Desktop/Zn_tonorm.csv\"\n",
    "source = pd.read_csv('MR_ext_HIOT.csv', index_col = None, header = None, low_memory = False)\n",
    "Zn_tonorm = source.iloc[7:8219, 5:8217]\n",
    "Zn_tonorm.to_csv(outfile1, header = None, index = None)\n",
    "\n",
    "outfile2 =\"/Users/marie/Desktop/norm.csv\"\n",
    "norm0 = source.iloc[1:2, 5:8217]\n",
    "norm0.to_csv(outfile2, header = None, index = None)"
   ]
  },
  {
   "cell_type": "markdown",
   "metadata": {
    "deletable": true,
    "editable": true
   },
   "source": [
    " We create FD_pd.csv with the 288 Final Demand activities."
   ]
  },
  {
   "cell_type": "code",
   "execution_count": 37,
   "metadata": {
    "collapsed": false,
    "deletable": true,
    "editable": true
   },
   "outputs": [],
   "source": [
    "### FD.csv is created because the excel is too heavy\n",
    "data_xls = pd.read_excel('MR_HIOT_2011_v3.3.11_FD_wo_invest.xlsx', 'FD', index_col=None, header = None)\n",
    "data_xls.to_csv('FD.csv', encoding='utf-8')"
   ]
  },
  {
   "cell_type": "code",
   "execution_count": 38,
   "metadata": {
    "collapsed": true,
    "deletable": true,
    "editable": true
   },
   "outputs": [],
   "source": [
    "outfile3 =\"/Users/marie/Desktop/FD.csv\"\n",
    "source1 = pd.read_csv('FD.csv', index_col = None, header = None, low_memory = False)\n",
    "FD = source1.iloc[8:8220, 6:294]\n",
    "FD.to_csv(outfile3, header = None, index = None)"
   ]
  },
  {
   "cell_type": "markdown",
   "metadata": {
    "deletable": true,
    "editable": true
   },
   "source": [
    "We create Bn_tonorm.csv with the extensions for the 7872 activities:\n",
    "- 30 resource flows (green water was excluded)\n",
    "- 4 land occupation flows\n",
    "- 63 direct emissions to Air, Water and Soil\n",
    "- 35 social extensions"
   ]
  },
  {
   "cell_type": "code",
   "execution_count": 3,
   "metadata": {
    "collapsed": false,
    "deletable": true,
    "editable": true
   },
   "outputs": [],
   "source": [
    "import pandas as pd\n",
    "data_xls = pd.read_excel('MR_ext-HIOT_2011_v3.3.11_extensions_MS.xlsx', 'New_Land_extens', index_col=None, header = None, encoding='utf-8')\n",
    "##outfile4 =\"/Users/marie/Desktop/Bn_tonorm_iLUC.csv\"\n",
    "Bn_tonorm_iLUC = data_xls.iloc[7:11, 5:8217]\n",
    "##Bn_tonorm_iLUC.to_csv(outfile4, header = None, index = None)"
   ]
  },
  {
   "cell_type": "code",
   "execution_count": 4,
   "metadata": {
    "collapsed": false,
    "deletable": true,
    "editable": true
   },
   "outputs": [],
   "source": [
    "data_xls = pd.read_excel('MR_HIOT_2011_v3.3.11_extensions_MS.xlsx', 'resource_act', index_col=None, header = None, encoding='utf-8')\n",
    "##outfile5 =\"/Users/marie/Desktop/Bn_tonorm_resource.csv\"\n",
    "Bn_tonorm_resource = data_xls.iloc[7:37, 5:8217]\n",
    "##Bn_tonorm_resource.to_csv(outfile5, header = None, index = None)"
   ]
  },
  {
   "cell_type": "code",
   "execution_count": 5,
   "metadata": {
    "collapsed": false,
    "deletable": true,
    "editable": true
   },
   "outputs": [],
   "source": [
    "data_xls = pd.read_excel('MR_HIOT_2011_v3.3.11_extensions_MS.xlsx', 'Land_act', index_col=None, header = None, encoding='utf-8')\n",
    "##outfile6 =\"/Users/marie/Desktop/Bn_tonorm_land.csv\"\n",
    "Bn_tonorm_land = data_xls.iloc[247:251, 5:8217]\n",
    "##Bn_tonorm_land.to_csv(outfile6, header = None, index = None)"
   ]
  },
  {
   "cell_type": "code",
   "execution_count": 6,
   "metadata": {
    "collapsed": false,
    "deletable": true,
    "editable": true
   },
   "outputs": [],
   "source": [
    "data_xls = pd.read_excel('MR_ext-HIOT_2011_v3.3.11_extensions_MS.xlsx', 'New_Emissions_extens_TOT', index_col=None, header = None, encoding='utf-8')\n",
    "##outfile7 =\"/Users/marie/Desktop/Bn_tonorm_emiss.csv\"\n",
    "Bn_tonorm_emiss = data_xls.iloc[7:71, 5:8217]\n",
    "##Bn_tonorm_emiss.to_csv(outfile7, header = None, index = None)"
   ]
  },
  {
   "cell_type": "code",
   "execution_count": 8,
   "metadata": {
    "collapsed": false,
    "deletable": true,
    "editable": true
   },
   "outputs": [],
   "source": [
    "data_xls = pd.read_excel('MR_HIOT_2011_v3.3.11_VA_SLCA_prices_MS.xlsx', 'social', index_col=None, header = None, encoding='utf-8')\n",
    "##outfile8 =\"/Users/marie/Desktop/Bn_tonorm_social.csv\"\n",
    "Bn_tonorm_social = data_xls.iloc[6:40, 5:8217]\n",
    "##Bn_tonorm_social.to_csv(outfile8, header = None, index = None)"
   ]
  },
  {
   "cell_type": "code",
   "execution_count": 9,
   "metadata": {
    "collapsed": false,
    "deletable": true,
    "editable": true
   },
   "outputs": [],
   "source": [
    "outfile =\"/Users/marie/Desktop/Bn_tonorm.csv\"\n",
    "frame = [Bn_tonorm_iLUC, Bn_tonorm_resource, Bn_tonorm_land, Bn_tonorm_emiss, Bn_tonorm_social]\n",
    "Bn_tonorm = pd.concat(frame)\n",
    "Bn_tonorm.to_csv(outfile, header = None, index = None)"
   ]
  },
  {
   "cell_type": "markdown",
   "metadata": {
    "deletable": true,
    "editable": true
   },
   "source": [
    "We create FD_ext_pd.csv with the extensions for the 288 final demand activities (same extensions as above)"
   ]
  },
  {
   "cell_type": "code",
   "execution_count": 10,
   "metadata": {
    "collapsed": false,
    "deletable": true,
    "editable": true
   },
   "outputs": [],
   "source": [
    "import pandas as pd\n",
    "import csv\n",
    "\n",
    "data_xls = pd.read_excel('MR_HIOT_2011_v3.3.11_extensions_MS.xlsx', 'resource_FD', index_col=None, header = None, encoding='utf-8')\n",
    "##outfile8 =\"/Users/marie/Desktop/FD_resource.csv\"\n",
    "FD_resource = data_xls.iloc[7:37, 5:293]\n",
    "##FD_resource.to_csv(outfile8, header = None, index = None)"
   ]
  },
  {
   "cell_type": "code",
   "execution_count": 11,
   "metadata": {
    "collapsed": true,
    "deletable": true,
    "editable": true
   },
   "outputs": [],
   "source": [
    "data_xls = pd.read_excel('MR_HIOT_2011_v3.3.11_extensions_MS.xlsx', 'Land_FD', index_col=None, header = None, encoding='utf-8')\n",
    "##outfile9 =\"/Users/marie/Desktop/FD_land.csv\"\n",
    "FD_land = data_xls.iloc[247:251, 5:293]\n",
    "##FD_land.to_csv(outfile9, header = None, index = None)"
   ]
  },
  {
   "cell_type": "code",
   "execution_count": 12,
   "metadata": {
    "collapsed": false,
    "deletable": true,
    "editable": true
   },
   "outputs": [],
   "source": [
    "data_xls = pd.read_excel('MR_HIOT_2011_v3.3.11_extensions_MS.xlsx', 'Emiss_FD', index_col=None, header = None,encoding='utf-8')\n",
    "##outfile10 =\"/Users/marie/Desktop/FD_emiss.csv\"\n",
    "FD_emiss = data_xls.iloc[7:70, 5:293]\n",
    "##FD_emiss.to_csv(outfile10, header = None, index = None)"
   ]
  },
  {
   "cell_type": "code",
   "execution_count": 13,
   "metadata": {
    "collapsed": true,
    "deletable": true,
    "editable": true
   },
   "outputs": [],
   "source": [
    "data_xls = pd.read_excel('MR_HIOT_2011_v3.3.11_extensions_MS.xlsx', 'New_land_FD', index_col=None, header = None,encoding='utf-8')\n",
    "##outfile11 =\"/Users/marie/Desktop/FD_iLUC.csv\"\n",
    "FD_iLUC = data_xls.iloc[7:11, 5:293]\n",
    "##FD_iLUC.to_csv(outfile11, header = None, index = None)"
   ]
  },
  {
   "cell_type": "code",
   "execution_count": 14,
   "metadata": {
    "collapsed": false,
    "deletable": true,
    "editable": true
   },
   "outputs": [],
   "source": [
    "import numpy as np\n",
    "FD_social = pd.DataFrame(np.zeros(shape = (35,288)))"
   ]
  },
  {
   "cell_type": "code",
   "execution_count": 15,
   "metadata": {
    "collapsed": false,
    "deletable": true,
    "editable": true
   },
   "outputs": [],
   "source": [
    "outfile =\"/Users/marie/Desktop/FD_ext.csv\"\n",
    "frame = [FD_iLUC, FD_resource, FD_land, FD_emiss]\n",
    "frame1 = pd.concat(frame)\n",
    "frame1 = frame1.reset_index(drop = True)\n",
    "frame1.columns = [i for i in range(frame1.shape[1])]\n",
    "frame2 = [frame1, FD_social] \n",
    "FD_ext = pd.concat(frame2)\n",
    "FD_ext.to_csv(outfile, header = None, index = None)"
   ]
  },
  {
   "cell_type": "markdown",
   "metadata": {
    "deletable": true,
    "editable": true
   },
   "source": [
    "## 2. Read CSV files as matrices "
   ]
  },
  {
   "cell_type": "markdown",
   "metadata": {
    "deletable": true,
    "editable": true
   },
   "source": [
    "Replace 0s with 1s in norm0.csv (matrices can't be divided by 0)"
   ]
  },
  {
   "cell_type": "code",
   "execution_count": 31,
   "metadata": {
    "collapsed": true,
    "deletable": true,
    "editable": true
   },
   "outputs": [],
   "source": [
    "def replace_0with1(source, result):\n",
    "    with open(source,\"r\") as source:\n",
    "        rdr = csv.reader(source)\n",
    "        with open (result, \"w\") as result:\n",
    "            wtr = csv.writer(result)\n",
    "            for row in rdr:\n",
    "                row = [x.replace('0', '1') if x == '0' else x for x in row]\n",
    "                wtr.writerow(row)"
   ]
  },
  {
   "cell_type": "code",
   "execution_count": 32,
   "metadata": {
    "collapsed": false,
    "deletable": true,
    "editable": true
   },
   "outputs": [],
   "source": [
    "replace_0with1(\"norm0.csv\", \"norm1.csv\")"
   ]
  },
  {
   "cell_type": "code",
   "execution_count": 21,
   "metadata": {
    "collapsed": false,
    "deletable": true,
    "editable": true
   },
   "outputs": [],
   "source": [
    "with open('norm1.csv','r') as dest_f:\n",
    "    data_iter = csv.reader(dest_f, \n",
    "                           delimiter = ',', \n",
    "                           quotechar = '\"')\n",
    "    data = [data for data in data_iter]\n",
    "nor = np.asarray(data, dtype='float')"
   ]
  },
  {
   "cell_type": "markdown",
   "metadata": {
    "deletable": true,
    "editable": true
   },
   "source": [
    "Read the following to make operations with the numpy package:\n",
    "- Zn_tonorm.csv as matrice\n",
    "- norm1.csv as vector\n",
    "- Bn_tonorm.csv as a matrice\n",
    "- FD.csv as a matrice\n",
    "- FD_ext.csv as a matrice"
   ]
  },
  {
   "cell_type": "code",
   "execution_count": 16,
   "metadata": {
    "collapsed": false,
    "deletable": true,
    "editable": true
   },
   "outputs": [],
   "source": [
    "with open(\"Zn_tonorm.csv\",'r') as dest_f:\n",
    "    data_iter = csv.reader(dest_f, \n",
    "                           delimiter = ',', \n",
    "                           quotechar = '\"')\n",
    "    data = [data for data in data_iter]\n",
    "Zn_tonorm = np.array(list(data)).astype('float')"
   ]
  },
  {
   "cell_type": "code",
   "execution_count": 17,
   "metadata": {
    "collapsed": false,
    "deletable": true,
    "editable": true
   },
   "outputs": [],
   "source": [
    "with open(\"Bn_tonorm.csv\",'r') as dest_f:\n",
    "    data_iter = csv.reader(dest_f, \n",
    "                           delimiter = ',', \n",
    "                           quotechar = '\"')\n",
    "    data = [data for data in data_iter]\n",
    "Bn_tonorm = np.array(list(data)).astype('float')"
   ]
  },
  {
   "cell_type": "code",
   "execution_count": 18,
   "metadata": {
    "collapsed": false,
    "deletable": true,
    "editable": true
   },
   "outputs": [],
   "source": [
    "with open(\"FD.csv\",'r') as dest_f:\n",
    "    data_iter = csv.reader(dest_f, \n",
    "                           delimiter = ',', \n",
    "                           quotechar = '\"')\n",
    "    data = [data for data in data_iter]\n",
    "f_cons = np.array(list(data)).astype('float')"
   ]
  },
  {
   "cell_type": "code",
   "execution_count": 19,
   "metadata": {
    "collapsed": false,
    "deletable": true,
    "editable": true
   },
   "outputs": [],
   "source": [
    "with open(\"FD_ext.csv\",'r') as dest_f:\n",
    "    data_iter = csv.reader(dest_f, \n",
    "                           delimiter = ',', \n",
    "                           quotechar = '\"')\n",
    "    data = [data for data in data_iter]\n",
    "f_em = np.array(list(data)).astype('float')"
   ]
  },
  {
   "cell_type": "markdown",
   "metadata": {
    "deletable": true,
    "editable": true
   },
   "source": [
    "## 3. Run operations\n",
    "To obtain Zn and Bn, Zn_tonorm and Bn_tonorm needs to be didvided by the norm vector."
   ]
  },
  {
   "cell_type": "code",
   "execution_count": 22,
   "metadata": {
    "collapsed": false,
    "deletable": true,
    "editable": true
   },
   "outputs": [],
   "source": [
    "Zn = Zn_tonorm/nor"
   ]
  },
  {
   "cell_type": "code",
   "execution_count": 23,
   "metadata": {
    "collapsed": false,
    "deletable": true,
    "editable": true
   },
   "outputs": [],
   "source": [
    "Bn = Bn_tonorm/nor"
   ]
  },
  {
   "cell_type": "markdown",
   "metadata": {
    "deletable": true,
    "editable": true
   },
   "source": [
    "We create the identity matrice"
   ]
  },
  {
   "cell_type": "code",
   "execution_count": 24,
   "metadata": {
    "collapsed": true,
    "deletable": true,
    "editable": true
   },
   "outputs": [],
   "source": [
    "identity = np.matrix(np.identity(8212), copy=False)"
   ]
  },
  {
   "cell_type": "code",
   "execution_count": 25,
   "metadata": {
    "collapsed": true,
    "deletable": true,
    "editable": true
   },
   "outputs": [],
   "source": [
    "An = identity-Zn"
   ]
  },
  {
   "cell_type": "code",
   "execution_count": 26,
   "metadata": {
    "collapsed": false,
    "deletable": true,
    "editable": true
   },
   "outputs": [],
   "source": [
    "S = np.linalg.inv(An)"
   ]
  },
  {
   "cell_type": "code",
   "execution_count": 27,
   "metadata": {
    "collapsed": false,
    "deletable": true,
    "editable": true
   },
   "outputs": [],
   "source": [
    "BLCI = Bn*S"
   ]
  },
  {
   "cell_type": "code",
   "execution_count": 28,
   "metadata": {
    "collapsed": false,
    "deletable": true,
    "editable": true
   },
   "outputs": [],
   "source": [
    "from io import StringIO\n",
    "import numpy as np\n",
    "s=StringIO()\n",
    "np.savetxt('BLCI.csv', BLCI, fmt='%.10f', delimiter=',', newline=\"\\n\")"
   ]
  },
  {
   "cell_type": "code",
   "execution_count": 29,
   "metadata": {
    "collapsed": true,
    "deletable": true,
    "editable": true
   },
   "outputs": [],
   "source": [
    "F = BLCI*f_cons"
   ]
  },
  {
   "cell_type": "code",
   "execution_count": 30,
   "metadata": {
    "collapsed": false,
    "deletable": true,
    "editable": true
   },
   "outputs": [],
   "source": [
    "F2 = F+f_em"
   ]
  },
  {
   "cell_type": "code",
   "execution_count": 31,
   "metadata": {
    "collapsed": false,
    "deletable": true,
    "editable": true
   },
   "outputs": [],
   "source": [
    "s=StringIO()\n",
    "np.savetxt('F2.csv', F2, fmt='%.10f', delimiter=',', newline=\"\\n\")"
   ]
  },
  {
   "cell_type": "markdown",
   "metadata": {
    "collapsed": true,
    "deletable": true,
    "editable": true
   },
   "source": []
  }
 ],
 "metadata": {
  "kernelspec": {
   "display_name": "Python 3",
   "language": "python",
   "name": "python3"
  },
  "language_info": {
   "codemirror_mode": {
    "name": "ipython",
    "version": 3
   },
   "file_extension": ".py",
   "mimetype": "text/x-python",
   "name": "python",
   "nbconvert_exporter": "python",
   "pygments_lexer": "ipython3",
   "version": "3.6.0"
  }
 },
 "nbformat": 4,
 "nbformat_minor": 0
}
