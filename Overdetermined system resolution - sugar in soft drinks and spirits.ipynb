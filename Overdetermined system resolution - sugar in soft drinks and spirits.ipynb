{
 "cells": [
  {
   "cell_type": "markdown",
   "metadata": {},
   "source": [
    "# Overdetermined system resolution - sugar consumption in beverages\n",
    "\n",
    "In the process of disagregating an IO-activity (such as the beverage industry into winery, brewery, distilled beverages, softs drinks and bottled water) the following issue is frequently raised: How do we distribute the specific inputs (e.g. sugar) over the different industries?\n",
    "Finding the sugar consumption in the different beverages is equivalent to solving an overdetermined system. An overdetermined system has more equations than unknowns. In this notebook, we will explore different ways to solve this overdetermined system, the solution they provide and the relative error associated with these solutions.\n",
    "\n",
    "### Countries in Exiobase (NAM version)\n",
    "\n",
    "The \"total sugar consumption of the beverage industry\" is provided in EXIOBASE for 14 countries:\n",
    "- sugar = quantity of sugar consumed for all beverages (kg)\n",
    "\n",
    "- Czech Republic (CZ)\n",
    "- Germany (DE)\n",
    "- Denmark (DK)\n",
    "- Spain (ES)\n",
    "- Finland (FI)\n",
    "- France (FR)\n",
    "- Ireland (IE)\n",
    "- Italy (IT)\n",
    "- Poland (PL)\n",
    "- Sweden (SE)\n",
    "- Great Britain (GB)\n",
    "- United States (US)\n",
    "- Canada (CA)\n",
    "- Norway (NO)\n",
    "\n",
    "Also, the volumes of each beverage type produced in the different countries were collected (extracted from industry associations):\n",
    "- wine = volume of wine (L)\n",
    "- beer = volume of beer (L)\n",
    "- cider = volume of cider (L)\n",
    "- distilled beverages = volume of distilled beverages (L)\n",
    "- soft drinks = volume of soft drinks (L)\n",
    "- bottled water = volume of bottled water (L)\n",
    "\n",
    "To cross-check numbers from the different data sources, the country specific \"total volume of beverages produced\" registered in EXIOBASE can be compared to the sum of all volumes collected per beverge type in the same country.\n",
    "\n",
    "### Unknowns\n",
    "The unknowns are the amounts of sugar required for each beverage type:\n",
    "- Sw = Sugar in wine (kg/L) => the wineries register no sugar input, so Sw = 0\n",
    "- Sb = Sugar in beer (kg/L) => the breweries register no sugar input, so Sb = 0\n",
    "- Sc = Sugar in cider (kg/L) => the varying sugar content of hard cider is a result of the fermentation process, sweeter ciders are slowly fermented and repeatedly racked (moved to new containers) to strain the yeast that feeds on the cider’s natural sugars.\n",
    "- Sd = Sugar in distilled beverages (kg/L)\n",
    "- Ss = Sugar in soft drinks (kg/L)\n",
    "- Sw = Sugar in water (kg/L) => there should be no sugar in bottled water, so Sw = 0\n",
    "\n",
    "\n",
    "### Equations\n",
    "14 countries => so 14 equations, however we decided to exclude the equation for Canada because the volume of soft drinks in Canada (collected by Ivan) is suspiciously low compared to the sugar consumption in the beverage industry. \n",
    "=> so 13 equations\n",
    "\n",
    "The original equation of the overtermined system was:\n",
    "- Sw x wine + Sb x beer + Sc x cider + Sd x distilled beverages + Ss x soft drinks + Sw x bottled water = Sugar\n",
    "\n",
    "We have now simplified it into:\n",
    "- Sc x cider + Sd x distilled beverages + Ss x soft drinks = Sugar\n"
   ]
  },
  {
   "cell_type": "markdown",
   "metadata": {
    "collapsed": true
   },
   "source": [
    "## 1. Linear regressions on sugar rates and identifying outliers\n",
    "First for soft drinks, then for distilled beverages, finally for cider"
   ]
  },
  {
   "cell_type": "code",
   "execution_count": 1,
   "metadata": {
    "collapsed": false
   },
   "outputs": [],
   "source": [
    "from sklearn import linear_model\n",
    "import matplotlib.pyplot as plt\n",
    "import numpy as np"
   ]
  },
  {
   "cell_type": "code",
   "execution_count": 2,
   "metadata": {
    "collapsed": false
   },
   "outputs": [],
   "source": [
    "## without removing outliers\n",
    "## wo extension = with outliers\n",
    "sugarwo = np.array([2.62E7,1.46E8,1.02E7,1.03E8,6.82E6,9.00E7,8.78E6,7.22E7,5.90E7,7.54E6,8.03E7,5.49E8,3.40E8,6.18E6])\n",
    "\n",
    "wine = np.array([4.70E7,9.13E8,0,3.34E9,0,5.11E9,0,4.67E9,8.32E6,0,1.45E6,2.78E9,5.65E7,0])\n",
    "beer = np.array([1.68E9,8.71E9,6.59E8,2.96E9,4.37E8,1.58E9,8.52E8,1.3E9,3.79E9,4.59E8,5.46E9,2.25E10,1.95E9,2.29E8])\n",
    "ciderwo = np.array([8.09E6,8.55E7,4.49E6,6.24E7,8.21E7,1.18E8,6.84E7,0,1.57E8,1.26E7,8.97E8,3.48E7,1.65E7,1.02E7])\n",
    "spiritswo = np.array([1.82E7,1.11E8,6.08E6,1.74E8,2.21E7,1.91E8,2.55E7,1.61E8,1.26E8,3.45E7,7.47E8,7.06E8,2.3E8,1.25E6])\n",
    "softdrinkswo = np.array([1.75E9,9.44E9,6.94E8,6.30E9,4.09E8,5.51E9,2.96E8,3.87E9,4.25E9,5.84E8,6.46E9,4.96E10,3.53E9,5.13E8])\n",
    "bottledwater = np.array([6.86E8,1.04E10,1.13E8,6.52E9,7.30E7,1.08E10,6.93E7,1.56E10,3.44E9,1.38E8,1.19E9,3.4E10,2.29E9,8.6E7])"
   ]
  },
  {
   "cell_type": "markdown",
   "metadata": {},
   "source": [
    "### Soft drinks"
   ]
  },
  {
   "cell_type": "code",
   "execution_count": 3,
   "metadata": {
    "collapsed": false
   },
   "outputs": [
    {
     "name": "stderr",
     "output_type": "stream",
     "text": [
      "//Users/marie/bw2-python/envs/bw2/lib/python3.4/site-packages/matplotlib/collections.py:590: FutureWarning: elementwise comparison failed; returning scalar instead, but in the future will perform elementwise comparison\n",
      "  if self._edgecolors == str('face'):\n"
     ]
    },
    {
     "data": {
      "image/png": "[encoded data removed]",
      "text/plain": [
       "<matplotlib.figure.Figure at 0x107de5fd0>"
      ]
     },
     "metadata": {},
     "output_type": "display_data"
    }
   ],
   "source": [
    "%matplotlib inline\n",
    "plt.scatter(sugarwo,softdrinkswo)\n",
    "plt.show()"
   ]
  },
  {
   "cell_type": "markdown",
   "metadata": {},
   "source": [
    "Identify and remove outliers: Canada (The sugar consumption is quite high compared to the amount of soft drinks produced in Canada)"
   ]
  },
  {
   "cell_type": "code",
   "execution_count": 4,
   "metadata": {
    "collapsed": true
   },
   "outputs": [],
   "source": [
    "softdrinks = np.array([1.75E9,9.44E9,6.94E8,6.30E9,4.09E8,5.51E9,2.96E8,3.87E9,4.25E9,5.84E8,6.46E9,5.13E8])\n",
    "sugar = np.array([2.62E7,1.46E8,1.02E7,1.03E8,6.82E6,9.00E7,8.78E6,7.22E7,5.90E7,7.54E6,8.03E7,6.18E6])"
   ]
  },
  {
   "cell_type": "code",
   "execution_count": 5,
   "metadata": {
    "collapsed": false
   },
   "outputs": [
    {
     "name": "stdout",
     "output_type": "stream",
     "text": [
      "Coefficients:\n",
      " [ 64.39976135]\n"
     ]
    }
   ],
   "source": [
    "#Create linear regression object\n",
    "regr = linear_model.LinearRegression()\n",
    "#Train the model using the sets\n",
    "regr.fit(sugar[:,np.newaxis],softdrinks)\n",
    "#The coefficients\n",
    "print('Coefficients:\\n', regr.coef_)"
   ]
  },
  {
   "cell_type": "markdown",
   "metadata": {},
   "source": [
    "1. We know that part of the sugar goes into other drinks.\n",
    "2. The 64 kg sugar per L soft drink coefficient is too high, meaning that not all the sugar goes into soft drinks.  \n",
    "3. The sugar rate per L beverage is supposed to be around 0.0028-0.042 kg /L beverage."
   ]
  },
  {
   "cell_type": "code",
   "execution_count": 6,
   "metadata": {
    "collapsed": false
   },
   "outputs": [
    {
     "name": "stdout",
     "output_type": "stream",
     "text": [
      "Residual sum of squares: 17186691703190654976.00\n",
      "Variance score: 0.97\n"
     ]
    }
   ],
   "source": [
    "#The mean square error\n",
    "print(\"Residual sum of squares: %.2f\" % np.mean((regr.predict(sugar.reshape(-1,1))-softdrinks.reshape(-1,1))**2))\n",
    "#Explained variance score: 1 is perfect prediction\n",
    "print('Variance score: %.2f' % regr.score(sugar.reshape(-1,1), softdrinks.reshape(-1,1)))"
   ]
  },
  {
   "cell_type": "markdown",
   "metadata": {},
   "source": [
    "The variance obtained for the correlation between softdrinks and sugar is very close to 1; which confirms the sugar consumption in soft drinks. (linear relationship between sugar consumption and softdrinks)"
   ]
  },
  {
   "cell_type": "code",
   "execution_count": 7,
   "metadata": {
    "collapsed": false
   },
   "outputs": [
    {
     "name": "stderr",
     "output_type": "stream",
     "text": [
      "//Users/marie/bw2-python/envs/bw2/lib/python3.4/site-packages/matplotlib/collections.py:590: FutureWarning: elementwise comparison failed; returning scalar instead, but in the future will perform elementwise comparison\n",
      "  if self._edgecolors == str('face'):\n"
     ]
    },
    {
     "data": {
      "image/png": "[encoded data removed]",
      "text/plain": [
       "<matplotlib.figure.Figure at 0x108383240>"
      ]
     },
     "metadata": {},
     "output_type": "display_data"
    }
   ],
   "source": [
    "%matplotlib inline\n",
    "plt.scatter(sugar,softdrinks, color='black')\n",
    "plt.plot(sugar.reshape(-1,1),regr.predict(sugar.reshape(-1,1)), color='blue',linewidth=2)\n",
    "plt.xticks(())\n",
    "plt.yticks(())\n",
    "plt.show()"
   ]
  },
  {
   "cell_type": "markdown",
   "metadata": {},
   "source": [
    "### Distilled beverages"
   ]
  },
  {
   "cell_type": "code",
   "execution_count": 8,
   "metadata": {
    "collapsed": false
   },
   "outputs": [
    {
     "data": {
      "text/plain": [
       "<matplotlib.collections.PathCollection at 0x108375390>"
      ]
     },
     "execution_count": 8,
     "metadata": {},
     "output_type": "execute_result"
    },
    {
     "name": "stderr",
     "output_type": "stream",
     "text": [
      "//Users/marie/bw2-python/envs/bw2/lib/python3.4/site-packages/matplotlib/collections.py:590: FutureWarning: elementwise comparison failed; returning scalar instead, but in the future will perform elementwise comparison\n",
      "  if self._edgecolors == str('face'):\n"
     ]
    },
    {
     "data": {
      "image/png": "[encoded data removed]",
      "text/plain": [
       "<matplotlib.figure.Figure at 0x1083870f0>"
      ]
     },
     "metadata": {},
     "output_type": "display_data"
    }
   ],
   "source": [
    "%matplotlib inline\n",
    "plt.scatter(sugarwo,spiritswo)"
   ]
  },
  {
   "cell_type": "markdown",
   "metadata": {},
   "source": [
    "Identify and remove outlier : United States (The volume of spirits produced is quite high and the sugar consumption quite low)"
   ]
  },
  {
   "cell_type": "code",
   "execution_count": 9,
   "metadata": {
    "collapsed": true
   },
   "outputs": [],
   "source": [
    "spirits = np.array([1.82E7,1.11E8,6.08E6,1.74E8,2.21E7,1.91E8,2.55E7,1.61E8,1.26E8,3.45E7,7.47E8,1.25E6])\n",
    "sugar = np.array([2.62E7,1.46E8,1.02E7,1.03E8,6.82E6,9.00E7,8.78E6,7.22E7,5.90E7,7.54E6,8.03E7,6.18E6])"
   ]
  },
  {
   "cell_type": "code",
   "execution_count": 10,
   "metadata": {
    "collapsed": false
   },
   "outputs": [
    {
     "name": "stdout",
     "output_type": "stream",
     "text": [
      "Coefficients:\n",
      " [ 1.97592402]\n",
      "Residual sum of squares: 46608526139719480.00\n",
      "Variance score: 0.21\n"
     ]
    },
    {
     "name": "stderr",
     "output_type": "stream",
     "text": [
      "//Users/marie/bw2-python/envs/bw2/lib/python3.4/site-packages/matplotlib/collections.py:590: FutureWarning: elementwise comparison failed; returning scalar instead, but in the future will perform elementwise comparison\n",
      "  if self._edgecolors == str('face'):\n"
     ]
    },
    {
     "data": {
      "image/png": "[encoded data removed]",
      "text/plain": [
       "<matplotlib.figure.Figure at 0x1081fecc0>"
      ]
     },
     "metadata": {},
     "output_type": "display_data"
    }
   ],
   "source": [
    "%matplotlib inline\n",
    "#Create linear regression object\n",
    "regr = linear_model.LinearRegression()\n",
    "#Train the model using the sets\n",
    "regr.fit(sugar[:,np.newaxis],spirits)\n",
    "#The coefficients\n",
    "print('Coefficients:\\n', regr.coef_)\n",
    "#The mean square error\n",
    "print(\"Residual sum of squares: %.2f\" % np.mean((regr.predict(sugar.reshape(-1,1))-spirits.reshape(-1,1))**2))\n",
    "#Explained variance score: 1 is perfect prediction\n",
    "print('Variance score: %.2f' % regr.score(sugar.reshape(-1,1),spirits.reshape(-1,1)))\n",
    "plt.scatter(sugar,spirits, color='black')\n",
    "plt.plot(sugar.reshape(-1,1),regr.predict(sugar.reshape(-1,1)), color='blue',linewidth=2)\n",
    "plt.xticks(())\n",
    "plt.yticks(())\n",
    "plt.show()"
   ]
  },
  {
   "cell_type": "markdown",
   "metadata": {},
   "source": [
    "### Cider"
   ]
  },
  {
   "cell_type": "code",
   "execution_count": 11,
   "metadata": {
    "collapsed": false
   },
   "outputs": [
    {
     "data": {
      "text/plain": [
       "<matplotlib.collections.PathCollection at 0x10859cb00>"
      ]
     },
     "execution_count": 11,
     "metadata": {},
     "output_type": "execute_result"
    },
    {
     "name": "stderr",
     "output_type": "stream",
     "text": [
      "//Users/marie/bw2-python/envs/bw2/lib/python3.4/site-packages/matplotlib/collections.py:590: FutureWarning: elementwise comparison failed; returning scalar instead, but in the future will perform elementwise comparison\n",
      "  if self._edgecolors == str('face'):\n"
     ]
    },
    {
     "data": {
      "image/png": "[encoded data removed]",
      "text/plain": [
       "<matplotlib.figure.Figure at 0x103dfc9e8>"
      ]
     },
     "metadata": {},
     "output_type": "display_data"
    }
   ],
   "source": [
    "%matplotlib inline\n",
    "plt.scatter(sugarwo,ciderwo)"
   ]
  },
  {
   "cell_type": "markdown",
   "metadata": {},
   "source": [
    "Identify and remove outliers: United Kingdom (World's largest consumer of cider: http://greatist.com/health/beer-or-cider-healthier)"
   ]
  },
  {
   "cell_type": "code",
   "execution_count": 12,
   "metadata": {
    "collapsed": true
   },
   "outputs": [],
   "source": [
    "sugar = np.array([2.62E7,1.46E8,1.02E7,1.03E8,6.82E6,9.00E7,8.78E6,7.22E7,5.90E7,7.54E6,6.18E6])\n",
    "cider = np.array([8.09E6,8.55E7,4.49E6,6.24E7,8.21E7,1.18E8,6.84E7,0,1.57E8,1.26E7,1.02E7])"
   ]
  },
  {
   "cell_type": "code",
   "execution_count": 13,
   "metadata": {
    "collapsed": false
   },
   "outputs": [
    {
     "name": "stdout",
     "output_type": "stream",
     "text": [
      "Coefficients:\n",
      " [ 0.45345645]\n",
      "Residual sum of squares: 2973515967616152.00\n",
      "Variance score: 0.17\n"
     ]
    },
    {
     "name": "stderr",
     "output_type": "stream",
     "text": [
      "//Users/marie/bw2-python/envs/bw2/lib/python3.4/site-packages/matplotlib/collections.py:590: FutureWarning: elementwise comparison failed; returning scalar instead, but in the future will perform elementwise comparison\n",
      "  if self._edgecolors == str('face'):\n"
     ]
    },
    {
     "data": {
      "image/png": "[encoded data removed]",
      "text/plain": [
       "<matplotlib.figure.Figure at 0x10839b320>"
      ]
     },
     "metadata": {},
     "output_type": "display_data"
    }
   ],
   "source": [
    "%matplotlib inline\n",
    "#Create linear regression object\n",
    "regr = linear_model.LinearRegression()\n",
    "#Train the model using the sets\n",
    "regr.fit(sugar[:,np.newaxis],cider)\n",
    "#The coefficients\n",
    "print('Coefficients:\\n', regr.coef_)\n",
    "#The mean square error\n",
    "print(\"Residual sum of squares: %.2f\" % np.mean((regr.predict(sugar.reshape(-1,1))-cider.reshape(-1,1))**2))\n",
    "#Explained variance score: 1 is perfect prediction\n",
    "print('Variance score: %.2f' % regr.score(sugar.reshape(-1,1),cider.reshape(-1,1)))\n",
    "plt.scatter(sugar,cider, color='black')\n",
    "plt.plot(sugar.reshape(-1,1),regr.predict(sugar.reshape(-1,1)), color='blue',linewidth=2)\n",
    "plt.xticks(())\n",
    "plt.yticks(())\n",
    "plt.show()"
   ]
  },
  {
   "cell_type": "markdown",
   "metadata": {},
   "source": [
    "## 2. Resolution with least-square method \n",
    "Calculation of a pseudo-solution of the system using the Moore-Penrose pseudo-inverse.\n",
    "https://en.wikipedia.org/wiki/Linear_least_squares_(mathematics)"
   ]
  },
  {
   "cell_type": "code",
   "execution_count": 65,
   "metadata": {
    "collapsed": true
   },
   "outputs": [],
   "source": [
    "from numpy import matrix\n",
    "from scipy.linalg import pinv"
   ]
  },
  {
   "cell_type": "code",
   "execution_count": 67,
   "metadata": {
    "collapsed": false
   },
   "outputs": [
    {
     "name": "stdout",
     "output_type": "stream",
     "text": [
      "[[  1.82000000e+07   1.75000000e+09]\n",
      " [  1.11000000e+08   9.44000000e+09]\n",
      " [  6.08000000e+06   6.94000000e+08]\n",
      " [  1.74000000e+08   6.30000000e+09]\n",
      " [  2.21000000e+07   4.09000000e+08]\n",
      " [  1.91000000e+08   5.51000000e+09]\n",
      " [  2.55000000e+07   2.96000000e+08]\n",
      " [  1.61000000e+08   3.87000000e+09]\n",
      " [  1.26000000e+08   4.25000000e+09]\n",
      " [  3.45000000e+07   5.84000000e+08]\n",
      " [  7.47000000e+08   6.46000000e+09]\n",
      " [  7.06000000e+08   4.96000000e+10]\n",
      " [  1.25000000e+06   5.13000000e+08]]\n"
     ]
    }
   ],
   "source": [
    "# Matrix of the overdetermined system\n",
    "volumes = matrix([[1.82E7,1.75E9], [1.11E8,9.44E9], [6.08E6, 6.94E8], [1.74E8,6.30E9],[2.21E7,4.09E8],[1.91E8,5.51E9],[2.55E7,2.96E8],[1.61E8,3.87E9],[1.26E8,4.25E9],[3.45E7,5.84E8], [7.47E8,6.46E9],[7.06E8,4.96E10],[1.25E6,5.13E8]])\n",
    "print(volumes)"
   ]
  },
  {
   "cell_type": "code",
   "execution_count": 68,
   "metadata": {
    "collapsed": false
   },
   "outputs": [
    {
     "name": "stdout",
     "output_type": "stream",
     "text": [
      "[[  2.62000000e+07]\n",
      " [  1.46000000e+08]\n",
      " [  1.02000000e+07]\n",
      " [  1.03000000e+08]\n",
      " [  6.82000000e+06]\n",
      " [  9.00000000e+07]\n",
      " [  8.78000000e+06]\n",
      " [  7.22000000e+07]\n",
      " [  5.90000000e+07]\n",
      " [  7.54000000e+06]\n",
      " [  8.03000000e+07]\n",
      " [  5.49000000e+08]\n",
      " [  6.18000000e+06]]\n"
     ]
    }
   ],
   "source": [
    "# The second member\n",
    "sugar=matrix([[2.62E7],[1.46E8],[1.02E7],[1.03E8],[6.82E6],[9.00E7],[8.78E6],[7.22E7],[5.90E7],[7.54E6],[8.03E7],[5.49E8],[6.18E6]])\n",
    "print(sugar)"
   ]
  },
  {
   "cell_type": "code",
   "execution_count": 69,
   "metadata": {
    "collapsed": false
   },
   "outputs": [
    {
     "name": "stdout",
     "output_type": "stream",
     "text": [
      "[[ -2.31666123e-11  -9.67016592e-11  -1.16946262e-11   1.55703400e-10\n",
      "    3.39212827e-11   2.21740622e-10   4.55014850e-11   2.14920886e-10\n",
      "    1.24035444e-10   5.49242371e-11   1.41287982e-09  -2.37472056e-10\n",
      "   -1.57954080e-11]\n",
      " [  1.02858146e-12   5.08473442e-12   4.49042703e-13  -2.19845253e-13\n",
      "   -4.04948376e-13  -1.59601052e-12  -6.36808873e-13  -2.09187111e-12\n",
      "   -4.59981149e-13  -6.84672950e-13  -2.07858490e-11   2.22765735e-11\n",
      "    4.49245971e-13]]\n"
     ]
    }
   ],
   "source": [
    "# Calculation of Moore-Penrose inverse\n",
    "PIA=pinv(volumes)\n",
    "print(PIA)"
   ]
  },
  {
   "cell_type": "code",
   "execution_count": 70,
   "metadata": {
    "collapsed": false
   },
   "outputs": [
    {
     "name": "stdout",
     "output_type": "stream",
     "text": [
      "[[ 0.02801424]\n",
      " [ 0.01097944]]\n"
     ]
    }
   ],
   "source": [
    "# Application to second member for pseudo solution\n",
    "print (PIA*sugar)"
   ]
  },
  {
   "cell_type": "markdown",
   "metadata": {},
   "source": [
    "The solutions we obtain with the least square method are: \n",
    "- sugar rate in distilled beverages: 0.028 kg/L\n",
    "- sugar rate in soft drinks: 0.011 kg/L\n",
    "\n",
    "The sugar rate is higher for distilled beverages? (Is it because we removed soft drink Canada production which contains a lot of sugar?)\n",
    "\n",
    "CCL: The least square method gives equal probability to the linear relationship between the sugar intake in distilled beverages or soft drinks."
   ]
  },
  {
   "cell_type": "markdown",
   "metadata": {},
   "source": [
    "### Resolution with the QR  decomposition vs least square method\n",
    "\n",
    "In linear algebra, a QR decomposition (also called a QR factorization) of a matrix is a decomposition of a matrix A into a product A = QR of an orthogonal matrix Q and an upper triangular matrix R. QR decomposition is often used to solve the linear least squares problem.\n",
    "\n",
    "The method of least squares is a standard approach in regression analysis to the approximate solution of overdetermined systems, i.e., sets of equations in which there are more equations than unknowns. \"Least squares\" means that the overall solution minimizes the sum of the squares of the errors made in the results of every single equation.\n",
    "\n",
    "Different outliers were removed from the equations."
   ]
  },
  {
   "cell_type": "code",
   "execution_count": 53,
   "metadata": {
    "collapsed": false
   },
   "outputs": [
    {
     "name": "stdout",
     "output_type": "stream",
     "text": [
      "qr solution\n",
      "[[ 12.06575166]\n",
      " [ -0.14499634]]\n",
      "lstsq solution\n",
      "[[ 12.06575166]\n",
      " [ -0.14499634]]\n"
     ]
    }
   ],
   "source": [
    "# When not removing any outliers from the equation\n",
    "from numpy import *\n",
    "# generating the overdetermined system\n",
    "A = matrix([[1.82E7,1.75E9], [1.11E8,9.44E9], [6.08E6, 6.94E8], [1.74E8,6.30E9],[2.21E7,4.09E8],[1.91E8,5.51E9],[2.55E7,2.96E8],[1.61E8,3.87E9],[1.26E8,4.25E9],[3.45E7,5.84E8], [7.47E8,6.46E9],[7.06E8,4.96E10],[2.30E8,3.53E9],[1.25E6,5.13E8]])\n",
    "b = matrix([[2.62E7],[1.46E8],[1.02E7],[1.03E8],[6.82E6],[9.00E7],[8.78E6],[7.22E7],[5.90E7],[7.54E6],[8.03E7],[5.49E8],[3.40E10],[6.18E6]])\n",
    "x_lstsq = linalg.lstsq(A,b)[0] # computing the numpy solution\n",
    "Q,R = linalg.qr(A) #qr decomposition of A\n",
    "Qb = dot(Q.T,b) # computing Q^T*b (project b onto the range of A)\n",
    "x_qr = linalg.solve(R,Qb) # solving R*x = Q^T*b\n",
    "# comparing the solutions\n",
    "print('qr solution')\n",
    "print(x_qr)\n",
    "print ('lstsq solution')\n",
    "print(x_lstsq)"
   ]
  },
  {
   "cell_type": "code",
   "execution_count": 52,
   "metadata": {
    "collapsed": false
   },
   "outputs": [
    {
     "name": "stdout",
     "output_type": "stream",
     "text": [
      "qr solution\n",
      "[[ 0.02801424]\n",
      " [ 0.01097944]]\n",
      "lstsq solution\n",
      "[[ 0.02801424]\n",
      " [ 0.01097944]]\n"
     ]
    }
   ],
   "source": [
    "# When removing only Canada from the equation\n",
    "from numpy import *\n",
    "# generating the overdetermined system\n",
    "A = matrix([[1.82E7,1.75E9], [1.11E8,9.44E9], [6.08E6, 6.94E8], [1.74E8,6.30E9],[2.21E7,4.09E8],[1.91E8,5.51E9],[2.55E7,2.96E8],[1.61E8,3.87E9],[1.26E8,4.25E9],[3.45E7,5.84E8], [7.47E8,6.46E9],[7.06E8,4.96E10],[1.25E6,5.13E8]])\n",
    "b = matrix([[2.62E7],[1.46E8],[1.02E7],[1.03E8],[6.82E6],[9.00E7],[8.78E6],[7.22E7],[5.90E7],[7.54E6],[8.03E7],[5.49E8],[6.18E6]])\n",
    "x_lstsq = linalg.lstsq(A,b)[0] # computing the numpy solution\n",
    "Q,R = linalg.qr(A) #qr decomposition of A\n",
    "Qb = dot(Q.T,b) # computing Q^T*b (project b onto the range of A)\n",
    "x_qr = linalg.solve(R,Qb) # solving R*x = Q^T*b\n",
    "# comparing the solutions\n",
    "print('qr solution')\n",
    "print(x_qr)\n",
    "print ('lstsq solution')\n",
    "print(x_lstsq)"
   ]
  },
  {
   "cell_type": "code",
   "execution_count": 50,
   "metadata": {
    "collapsed": false
   },
   "outputs": [
    {
     "name": "stdout",
     "output_type": "stream",
     "text": [
      "qr solution\n",
      "[[ 0.047095 ]\n",
      " [ 0.0174003]]\n",
      "lstsq solution\n",
      "[[ 0.047095 ]\n",
      " [ 0.0174003]]\n"
     ]
    }
   ],
   "source": [
    "#When removing only the United States from the equation\n",
    "from numpy import *\n",
    "# generating the overdetermined system\n",
    "A = matrix([[1.82E7,1.75E9], [1.11E8,9.44E9], [6.08E6, 6.94E8], [1.74E8,6.30E9],[2.21E7,4.09E8],[1.91E8,5.51E9],[2.55E7,2.96E8],[1.61E8,3.87E9],[1.26E8,4.25E9],[3.45E7,5.84E8], [7.47E8,6.46E9],[2.30E8,3.53E9],[1.25E6,5.13E8]])\n",
    "b = matrix([[2.62E7],[1.46E8],[1.02E7],[1.03E8],[6.82E6],[9.00E7],[8.78E6],[7.22E7],[5.90E7],[7.54E6],[8.03E7],[3.40E8],[6.18E6]])\n",
    "x_lstsq = linalg.lstsq(A,b)[0] # computing the numpy solution\n",
    "Q,R = linalg.qr(A) #qr decomposition of A\n",
    "Qb = dot(Q.T,b) # computing Q^T*b (project b onto the range of A)\n",
    "x_qr = linalg.solve(R,Qb) # solving R*x = Q^T*b\n",
    "# comparing the solutions\n",
    "print('qr solution')\n",
    "print(x_qr)\n",
    "print ('lstsq solution')\n",
    "print(x_lstsq)"
   ]
  },
  {
   "cell_type": "code",
   "execution_count": 51,
   "metadata": {
    "collapsed": false
   },
   "outputs": [
    {
     "name": "stdout",
     "output_type": "stream",
     "text": [
      "qr solution\n",
      "[[-0.0301196 ]\n",
      " [ 0.01643281]]\n",
      "lstsq solution\n",
      "[[-0.0301196 ]\n",
      " [ 0.01643281]]\n"
     ]
    }
   ],
   "source": [
    "#When removing the United States and Canada from the equation\n",
    "from numpy import *\n",
    "# generating the overdetermined system\n",
    "A = matrix([[1.82E7,1.75E9], [1.11E8,9.44E9], [6.08E6, 6.94E8], [1.74E8,6.30E9],[2.21E7,4.09E8],[1.91E8,5.51E9],[2.55E7,2.96E8],[1.61E8,3.87E9],[1.26E8,4.25E9],[3.45E7,5.84E8], [7.47E8,6.46E9],[1.25E6,5.13E8]])\n",
    "b = matrix([[2.62E7],[1.46E8],[1.02E7],[1.03E8],[6.82E6],[9.00E7],[8.78E6],[7.22E7],[5.90E7],[7.54E6],[8.03E7],[6.18E6]])\n",
    "x_lstsq = linalg.lstsq(A,b)[0] # computing the numpy solution\n",
    "Q,R = linalg.qr(A) #qr decomposition of A\n",
    "Qb = dot(Q.T,b) # computing Q^T*b (project b onto the range of A)\n",
    "x_qr = linalg.solve(R,Qb) # solving R*x = Q^T*b\n",
    "# comparing the solutions\n",
    "print('qr solution')\n",
    "print(x_qr)\n",
    "print ('lstsq solution')\n",
    "print(x_lstsq)"
   ]
  },
  {
   "cell_type": "markdown",
   "metadata": {},
   "source": [
    "We can see that depending on the outliers we decide to remove from the over-determined system, the solutions obtained are extremely different."
   ]
  },
  {
   "cell_type": "markdown",
   "metadata": {
    "collapsed": true
   },
   "source": [
    "## 3. Substantial uncertainties in the independant variable : fitting errors-in-variables models\n",
    "\n",
    "The most important application is in data fitting. The best fit in the least-squares sense minimizes the sum of squared residuals, a residual being the difference between an observed value and the fitted value provided by a model. When the problem has substantial uncertainties in the independent variable (the x variable), then simple regression and least squares methods have problems; in such cases, the methodology required for fitting errors-in-variables models may be considered instead of that for least squares.\n",
    "\n",
    "In statistics, errors-in-variables models or measurement error models are regression models that account for measurement errors in the independent variables. In contrast, standard regression models assume that those regressors have been measured exactly, or observed without error; as such, those models account only for errors in the dependent variables, or responses.\n",
    "\n",
    "In the case when some regressors have been measured with errors, estimation based on the standard assumption leads to inconsistent estimates, meaning that the parameter estimates do not tend to the true values even in very large samples. For simple linear regression the effect is an underestimate of the coefficient, known as the attenuation bias.\n",
    "\n",
    "Consider a simple linear regression model of the form\n",
    "\n",
    "    y t = α + β x t ∗ + ε t , t = 1 , … , T , {\\displaystyle y_{t}=\\alpha +\\beta x_{t}^{*}+\\varepsilon _{t}\\,,\\quad t=1,\\ldots ,T,} y_{t} = \\alpha + \\beta x_{t}^{*} + \\varepsilon_t\\,, \\quad t=1,\\ldots,T, \n",
    "\n",
    "where x t ∗ {\\displaystyle x_{t}^{*}} x_{t}^{*} denotes the true but unobserved regressor. Instead we observe this value with an error:\n",
    "\n",
    "    x t = x t ∗ + η t {\\displaystyle x_{t}=x_{t}^{*}+\\eta _{t}\\,} x_{t} = x_{t}^{*} + \\eta_{t}\\, \n",
    "\n",
    "where the measurement error η t {\\displaystyle \\eta _{t}} \\eta_{t} is assumed to be independent from the true value x t ∗ {\\displaystyle x_{t}^{*}} x_{t}^{*}.\n",
    "\n",
    "If the y t {\\displaystyle y_{t}} y_{t}′s are simply regressed on the x t {\\displaystyle x_{t}} x_{t}′s (see simple linear regression), then the estimator for the slope coefficient is\n",
    "\n",
    "    β ^ = 1 T ∑ t = 1 T ( x t − x ¯ ) ( y t − y ¯ ) 1 T ∑ t = 1 T ( x t − x ¯ ) 2 , {\\displaystyle {\\hat {\\beta }}={\\frac {{\\tfrac {1}{T}}\\sum _{t=1}^{T}(x_{t}-{\\bar {x}})(y_{t}-{\\bar {y}})}{{\\tfrac {1}{T}}\\sum _{t=1}^{T}(x_{t}-{\\bar {x}})^{2}}}\\,,} \\hat{\\beta} = \\frac{\\tfrac{1}{T}\\sum_{t=1}^T(x_t-\\bar{x})(y_t-\\bar{y})} {\\tfrac{1}{T}\\sum_{t=1}^T(x_t-\\bar{x})^2}\\,, \n",
    "\n",
    "which converges as the sample size T {\\displaystyle T} T increases without bound:\n",
    "\n",
    "    β ^ → p Cov ⁡ [ x t , y t ] Var ⁡ [ x t ] = β σ x ∗ 2 σ x ∗ 2 + σ η 2 = β 1 + σ η 2 / σ x ∗ 2 . {\\displaystyle {\\hat {\\beta }}{\\xrightarrow {p}}{\\frac {\\operatorname {Cov} [\\,x_{t},y_{t}\\,]}{\\operatorname {Var} [\\,x_{t}\\,]}}={\\frac {\\beta \\sigma _{x^{*}}^{2}}{\\sigma _{x^{*}}^{2}+\\sigma _{\\eta }^{2}}}={\\frac {\\beta }{1+\\sigma _{\\eta }^{2}/\\sigma _{x^{*}}^{2}}}\\,.} \\hat{\\beta} \\xrightarrow{p} \\frac{\\operatorname{Cov}[\\,x_t,y_t\\,]}{\\operatorname{Var}[\\,x_t\\,]} = \\frac{\\beta \\sigma^2_{x^*}} {\\sigma_{x^*}^2 + \\sigma_\\eta^2} = \\frac{\\beta} {1 + \\sigma_\\eta^2/\\sigma_{x^*}^2}\\,. \n",
    "\n",
    "Variances are non-negative, so that in the limit the estimate is smaller in magnitude than the true value of β {\\displaystyle \\beta } \\beta , an effect which statisticians call attenuation or regression dilution.[5] Thus the ‘naїve’ least squares estimator is inconsistent in this setting. However, the estimator is a consistent estimator of the parameter required for a best linear predictor of y {\\displaystyle y} y given x {\\displaystyle x} x: in some applications this may be what is required, rather than an estimate of the ‘true’ regression coefficient, although that would assume that the variance of the errors in observing x ∗ {\\displaystyle x^{*}} x^{*} remains fixed. This follows directly from the result quoted immediately above, and the fact that the regression coefficient relating the y t {\\displaystyle y_{t}} y_{t}′s to the actually observed x t {\\displaystyle x_{t}} x_{t}′s, in a simple linear regression, is given by\n",
    "\n",
    "    β x = Cov ⁡ [ x t , y t ] Var ⁡ [ x t ] . {\\displaystyle \\beta _{x}={\\frac {\\operatorname {Cov} [\\,x_{t},y_{t}\\,]}{\\operatorname {Var} [\\,x_{t}\\,]}}.} \\beta _{x}={\\frac {\\operatorname {Cov}[\\,x_{t},y_{t}\\,]}{\\operatorname {Var}[\\,x_{t}\\,]}}.\n",
    "\n",
    "It is this coefficient, rather than β {\\displaystyle \\beta } \\beta , that would be required for constructing a predictor of y {\\displaystyle y} y based on an observed x {\\displaystyle x} x which is subject to noise.\n",
    "\n",
    "It can be argued that almost all existing data sets contain errors of different nature and magnitude, so that attenuation bias is extremely frequent (although in multivariate regression the direction of bias is ambiguous. Jerry Hausman sees this as an iron law of econometrics: \"The magnitude of the estimate is usually smaller than expected.\""
   ]
  },
  {
   "cell_type": "code",
   "execution_count": 1,
   "metadata": {
    "collapsed": true
   },
   "outputs": [],
   "source": [
    "import numpy\n",
    "from warnings import warn\n",
    "from scipy.odr import __odrpack"
   ]
  },
  {
   "cell_type": "code",
   "execution_count": null,
   "metadata": {
    "collapsed": true
   },
   "outputs": [],
   "source": []
  }
 ],
 "metadata": {
  "kernelspec": {
   "display_name": "Python 3",
   "language": "python",
   "name": "python3"
  },
  "language_info": {
   "codemirror_mode": {
    "name": "ipython",
    "version": 3
   },
   "file_extension": ".py",
   "mimetype": "text/x-python",
   "name": "python",
   "nbconvert_exporter": "python",
   "pygments_lexer": "ipython3",
   "version": "3.4.3"
  }
 },
 "nbformat": 4,
 "nbformat_minor": 0
}
